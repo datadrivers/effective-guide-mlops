{
 "cells": [
  {
   "cell_type": "markdown",
   "id": "d0d04c4c",
   "metadata": {},
   "source": [
    "# EDA Penguin Data"
   ]
  },
  {
   "cell_type": "code",
   "execution_count": 33,
   "id": "32fbec0d",
   "metadata": {},
   "outputs": [
    {
     "data": {
      "text/html": [
       "<div>\n",
       "<style scoped>\n",
       "    .dataframe tbody tr th:only-of-type {\n",
       "        vertical-align: middle;\n",
       "    }\n",
       "\n",
       "    .dataframe tbody tr th {\n",
       "        vertical-align: top;\n",
       "    }\n",
       "\n",
       "    .dataframe thead th {\n",
       "        text-align: right;\n",
       "    }\n",
       "</style>\n",
       "<table border=\"1\" class=\"dataframe\">\n",
       "  <thead>\n",
       "    <tr style=\"text-align: right;\">\n",
       "      <th></th>\n",
       "      <th>species</th>\n",
       "      <th>island</th>\n",
       "      <th>bill_length_mm</th>\n",
       "      <th>bill_depth_mm</th>\n",
       "      <th>flipper_length_mm</th>\n",
       "      <th>body_mass_g</th>\n",
       "      <th>sex</th>\n",
       "      <th>year</th>\n",
       "    </tr>\n",
       "  </thead>\n",
       "  <tbody>\n",
       "    <tr>\n",
       "      <th>1</th>\n",
       "      <td>Adelie</td>\n",
       "      <td>Torgersen</td>\n",
       "      <td>39.1</td>\n",
       "      <td>18.7</td>\n",
       "      <td>181.0</td>\n",
       "      <td>3750.0</td>\n",
       "      <td>male</td>\n",
       "      <td>2007</td>\n",
       "    </tr>\n",
       "    <tr>\n",
       "      <th>2</th>\n",
       "      <td>Adelie</td>\n",
       "      <td>Torgersen</td>\n",
       "      <td>39.5</td>\n",
       "      <td>17.4</td>\n",
       "      <td>186.0</td>\n",
       "      <td>3800.0</td>\n",
       "      <td>female</td>\n",
       "      <td>2007</td>\n",
       "    </tr>\n",
       "    <tr>\n",
       "      <th>3</th>\n",
       "      <td>Adelie</td>\n",
       "      <td>Torgersen</td>\n",
       "      <td>40.3</td>\n",
       "      <td>18.0</td>\n",
       "      <td>195.0</td>\n",
       "      <td>3250.0</td>\n",
       "      <td>female</td>\n",
       "      <td>2007</td>\n",
       "    </tr>\n",
       "  </tbody>\n",
       "</table>\n",
       "</div>"
      ],
      "text/plain": [
       "  species     island  bill_length_mm  bill_depth_mm  flipper_length_mm  \\\n",
       "1  Adelie  Torgersen            39.1           18.7              181.0   \n",
       "2  Adelie  Torgersen            39.5           17.4              186.0   \n",
       "3  Adelie  Torgersen            40.3           18.0              195.0   \n",
       "\n",
       "   body_mass_g     sex  year  \n",
       "1       3750.0    male  2007  \n",
       "2       3800.0  female  2007  \n",
       "3       3250.0  female  2007  "
      ]
     },
     "execution_count": 33,
     "metadata": {},
     "output_type": "execute_result"
    }
   ],
   "source": [
    "import pandas as pd\n",
    "df = pd.read_csv(\"s3://mlops-test-raw-data/penguins.csv\", index_col=0)\n",
    "df.dropna(inplace=True)\n",
    "df.drop_duplicates(inplace=True)\n",
    "df.head(3)"
   ]
  },
  {
   "cell_type": "code",
   "execution_count": 6,
   "id": "69a0d75e",
   "metadata": {},
   "outputs": [
    {
     "name": "stdout",
     "output_type": "stream",
     "text": [
      "Penguin Data has shape (333, 8)\n"
     ]
    }
   ],
   "source": [
    "print(f\"Penguin Data has shape {df.shape}\")"
   ]
  },
  {
   "cell_type": "markdown",
   "id": "fcfc0c39",
   "metadata": {},
   "source": [
    "## 1. Distributions"
   ]
  },
  {
   "cell_type": "markdown",
   "id": "60ea10c7",
   "metadata": {},
   "source": [
    "### Target: sex "
   ]
  },
  {
   "cell_type": "code",
   "execution_count": 11,
   "id": "3e058e08",
   "metadata": {},
   "outputs": [
    {
     "data": {
      "image/png": "[encoded data removed]",
      "text/plain": [
       "<Figure size 432x288 with 1 Axes>"
      ]
     },
     "metadata": {
      "needs_background": "light"
     },
     "output_type": "display_data"
    }
   ],
   "source": [
    "_ = df.sex.value_counts().plot(kind='barh')"
   ]
  },
  {
   "cell_type": "markdown",
   "id": "048490bc",
   "metadata": {},
   "source": [
    "### Feature: island"
   ]
  },
  {
   "cell_type": "code",
   "execution_count": 14,
   "id": "8ad874a6",
   "metadata": {},
   "outputs": [
    {
     "data": {
      "image/png": "[encoded data removed]",
      "text/plain": [
       "<Figure size 432x288 with 1 Axes>"
      ]
     },
     "metadata": {
      "needs_background": "light"
     },
     "output_type": "display_data"
    }
   ],
   "source": [
    "_ = df.island.value_counts().plot(kind='barh')"
   ]
  },
  {
   "cell_type": "markdown",
   "id": "07ce570a",
   "metadata": {},
   "source": [
    "### Feature: species"
   ]
  },
  {
   "cell_type": "code",
   "execution_count": 16,
   "id": "81443170",
   "metadata": {},
   "outputs": [
    {
     "data": {
      "image/png": "[encoded data removed]",
      "text/plain": [
       "<Figure size 432x288 with 1 Axes>"
      ]
     },
     "metadata": {
      "needs_background": "light"
     },
     "output_type": "display_data"
    }
   ],
   "source": [
    "_ = df.species.value_counts().plot(kind='barh')"
   ]
  },
  {
   "cell_type": "markdown",
   "id": "c666a136",
   "metadata": {},
   "source": [
    "### Feature: Year"
   ]
  },
  {
   "cell_type": "code",
   "execution_count": 18,
   "id": "4b349343",
   "metadata": {},
   "outputs": [
    {
     "data": {
      "image/png": "[encoded data removed]",
      "text/plain": [
       "<Figure size 432x288 with 1 Axes>"
      ]
     },
     "metadata": {
      "needs_background": "light"
     },
     "output_type": "display_data"
    }
   ],
   "source": [
    "_ = df.year.value_counts().plot(kind='barh')"
   ]
  },
  {
   "cell_type": "markdown",
   "id": "f43a67d2",
   "metadata": {},
   "source": [
    "### Feature: bill_length_mm"
   ]
  },
  {
   "cell_type": "code",
   "execution_count": 26,
   "id": "8de9ef6a",
   "metadata": {},
   "outputs": [
    {
     "name": "stdout",
     "output_type": "stream",
     "text": [
      " Mean 43.99 mm, Std 5.47 mm\n"
     ]
    },
    {
     "data": {
      "image/png": "[encoded data removed]",
      "text/plain": [
       "<Figure size 432x288 with 1 Axes>"
      ]
     },
     "metadata": {
      "needs_background": "light"
     },
     "output_type": "display_data"
    }
   ],
   "source": [
    "print(f\" Mean: {df.bill_length_mm.mean():.2f} mm, Std: {df.bill_length_mm.std():.2f} mm\")\n",
    "_ = df.bill_length_mm.hist()"
   ]
  },
  {
   "cell_type": "markdown",
   "id": "b28dcd99",
   "metadata": {},
   "source": [
    "### Feature: bill_depth_mm"
   ]
  },
  {
   "cell_type": "code",
   "execution_count": 27,
   "id": "c752096b",
   "metadata": {},
   "outputs": [
    {
     "name": "stdout",
     "output_type": "stream",
     "text": [
      " Mean: 17.16 mm, Std: 1.97 mm\n"
     ]
    },
    {
     "data": {
      "image/png": "[encoded data removed]",
      "text/plain": [
       "<Figure size 432x288 with 1 Axes>"
      ]
     },
     "metadata": {
      "needs_background": "light"
     },
     "output_type": "display_data"
    }
   ],
   "source": [
    "print(f\" Mean: {df.bill_depth_mm.mean():.2f} mm, Std: {df.bill_depth_mm.std():.2f} mm\")\n",
    "_ = df.bill_depth_mm.hist()"
   ]
  },
  {
   "cell_type": "markdown",
   "id": "8c2b335a",
   "metadata": {},
   "source": [
    "### Feature: flipper_length_mm"
   ]
  },
  {
   "cell_type": "code",
   "execution_count": 28,
   "id": "eec3f261",
   "metadata": {},
   "outputs": [
    {
     "name": "stdout",
     "output_type": "stream",
     "text": [
      " Mean: 200.97 mm, Std: 14.02 mm\n"
     ]
    },
    {
     "data": {
      "image/png": "[encoded data removed]",
      "text/plain": [
       "<Figure size 432x288 with 1 Axes>"
      ]
     },
     "metadata": {
      "needs_background": "light"
     },
     "output_type": "display_data"
    }
   ],
   "source": [
    "print(f\" Mean: {df.flipper_length_mm.mean():.2f} mm, Std: {df.flipper_length_mm.std():.2f} mm\")\n",
    "_ = df.flipper_length_mm.hist()"
   ]
  },
  {
   "cell_type": "markdown",
   "id": "96d4ff5c",
   "metadata": {},
   "source": [
    "### Feature: body_mass_g"
   ]
  },
  {
   "cell_type": "code",
   "execution_count": 29,
   "id": "36c665ac",
   "metadata": {},
   "outputs": [
    {
     "name": "stdout",
     "output_type": "stream",
     "text": [
      " Mean: 4207.06 g, Std: 805.22 g\n"
     ]
    },
    {
     "data": {
      "image/png": "[encoded data removed]",
      "text/plain": [
       "<Figure size 432x288 with 1 Axes>"
      ]
     },
     "metadata": {
      "needs_background": "light"
     },
     "output_type": "display_data"
    }
   ],
   "source": [
    "print(f\" Mean: {df.body_mass_g.mean():.2f} g, Std: {df.body_mass_g.std():.2f} g\")\n",
    "_ = df.body_mass_g.hist()"
   ]
  }
 ],
 "metadata": {
  "kernelspec": {
   "display_name": "conda_python3",
   "language": "python",
   "name": "conda_python3"
  },
  "language_info": {
   "codemirror_mode": {
    "name": "ipython",
    "version": 3
   },
   "file_extension": ".py",
   "mimetype": "text/x-python",
   "name": "python",
   "nbconvert_exporter": "python",
   "pygments_lexer": "ipython3",
   "version": "3.6.13"
  }
 },
 "nbformat": 4,
 "nbformat_minor": 5
}
